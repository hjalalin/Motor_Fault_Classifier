{
 "cells": [
  {
   "cell_type": "code",
   "execution_count": 1,
   "id": "9a94eaf7",
   "metadata": {
    "execution": {
     "iopub.execute_input": "2023-11-19T18:17:28.601973Z",
     "iopub.status.busy": "2023-11-19T18:17:28.600613Z",
     "iopub.status.idle": "2023-11-19T18:17:30.533282Z",
     "shell.execute_reply": "2023-11-19T18:17:30.532090Z"
    },
    "papermill": {
     "duration": 1.940137,
     "end_time": "2023-11-19T18:17:30.536096",
     "exception": false,
     "start_time": "2023-11-19T18:17:28.595959",
     "status": "completed"
    },
    "tags": []
   },
   "outputs": [],
   "source": [
    "import numpy as np\n",
    "import pandas as pd\n",
    "import seaborn as sns\n",
    "import matplotlib.pyplot as plt"
   ]
  },
  {
   "cell_type": "code",
   "execution_count": 2,
   "id": "84869236",
   "metadata": {
    "execution": {
     "iopub.execute_input": "2023-11-19T18:17:30.542325Z",
     "iopub.status.busy": "2023-11-19T18:17:30.541798Z",
     "iopub.status.idle": "2023-11-19T18:17:31.514901Z",
     "shell.execute_reply": "2023-11-19T18:17:31.513975Z"
    },
    "papermill": {
     "duration": 0.978994,
     "end_time": "2023-11-19T18:17:31.517375",
     "exception": false,
     "start_time": "2023-11-19T18:17:30.538381",
     "status": "completed"
    },
    "tags": []
   },
   "outputs": [],
   "source": [
    "df = pd.read_csv(\n",
    "    '/kaggle/input/d/hodajalali/sensorless-drive-diagnosis/Sensorless_drive_diagnosis.txt', \n",
    "    delim_whitespace=True, \n",
    "    header=None\n",
    ")\n",
    "column_names =[]\n",
    "for i in range(df.shape[1]-1):\n",
    "    column_names.append(\"Feature\"+str(i+1))\n",
    "column_names.append('Class')\n",
    "df.columns = column_names"
   ]
  }
 ],
 "metadata": {
  "kaggle": {
   "accelerator": "none",
   "dataSources": [
    {
     "datasetId": 4024101,
     "sourceId": 7000192,
     "sourceType": "datasetVersion"
    },
    {
     "datasetId": 4026799,
     "sourceId": 7004457,
     "sourceType": "datasetVersion"
    }
   ],
   "dockerImageVersionId": 30587,
   "isGpuEnabled": false,
   "isInternetEnabled": true,
   "language": "python",
   "sourceType": "notebook"
  },
  "kernelspec": {
   "display_name": "Python 3",
   "language": "python",
   "name": "python3"
  },
  "language_info": {
   "codemirror_mode": {
    "name": "ipython",
    "version": 3
   },
   "file_extension": ".py",
   "mimetype": "text/x-python",
   "name": "python",
   "nbconvert_exporter": "python",
   "pygments_lexer": "ipython3",
   "version": "3.10.12"
  },
  "papermill": {
   "default_parameters": {},
   "duration": 7.109605,
   "end_time": "2023-11-19T18:17:32.142740",
   "environment_variables": {},
   "exception": null,
   "input_path": "__notebook__.ipynb",
   "output_path": "__notebook__.ipynb",
   "parameters": {},
   "start_time": "2023-11-19T18:17:25.033135",
   "version": "2.4.0"
  }
 },
 "nbformat": 4,
 "nbformat_minor": 5
}
