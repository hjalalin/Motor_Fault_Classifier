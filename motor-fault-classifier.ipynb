{
 "cells": [
  {
   "cell_type": "markdown",
   "id": "e5ac468a",
   "metadata": {
    "papermill": {
     "duration": 0.00477,
     "end_time": "2023-11-19T20:04:11.643270",
     "exception": false,
     "start_time": "2023-11-19T20:04:11.638500",
     "status": "completed"
    },
    "tags": []
   },
   "source": [
    "> Importing Libraries"
   ]
  },
  {
   "cell_type": "code",
   "execution_count": 1,
   "id": "445731f1",
   "metadata": {
    "execution": {
     "iopub.execute_input": "2023-11-19T20:04:11.655716Z",
     "iopub.status.busy": "2023-11-19T20:04:11.655371Z",
     "iopub.status.idle": "2023-11-19T20:04:26.405525Z",
     "shell.execute_reply": "2023-11-19T20:04:26.404412Z"
    },
    "papermill": {
     "duration": 14.758127,
     "end_time": "2023-11-19T20:04:26.408049",
     "exception": false,
     "start_time": "2023-11-19T20:04:11.649922",
     "status": "completed"
    },
    "tags": []
   },
   "outputs": [],
   "source": [
    "import numpy as np\n",
    "import pandas as pd\n",
    "import seaborn as sns\n",
    "import matplotlib.pyplot as plt\n",
    "from sklearn.datasets import load_iris\n",
    "from sklearn.model_selection import train_test_split\n",
    "from sklearn.linear_model import LogisticRegression\n",
    "from sklearn.tree import DecisionTreeClassifier\n",
    "from sklearn.ensemble import RandomForestClassifier\n",
    "from sklearn.svm import SVC\n",
    "from sklearn.metrics import accuracy_score, classification_report\n",
    "from sklearn.decomposition import PCA\n",
    "from tensorflow.keras.models import Sequential\n",
    "from tensorflow.keras.layers import Dense\n",
    "from tensorflow.keras.callbacks import EarlyStopping"
   ]
  },
  {
   "cell_type": "markdown",
   "id": "816d44ec",
   "metadata": {
    "papermill": {
     "duration": 0.004051,
     "end_time": "2023-11-19T20:04:26.416596",
     "exception": false,
     "start_time": "2023-11-19T20:04:26.412545",
     "status": "completed"
    },
    "tags": []
   },
   "source": [
    "> Importing data"
   ]
  },
  {
   "cell_type": "code",
   "execution_count": 2,
   "id": "3e9f2e60",
   "metadata": {
    "execution": {
     "iopub.execute_input": "2023-11-19T20:04:26.427228Z",
     "iopub.status.busy": "2023-11-19T20:04:26.426527Z",
     "iopub.status.idle": "2023-11-19T20:04:27.023510Z",
     "shell.execute_reply": "2023-11-19T20:04:27.022847Z"
    },
    "papermill": {
     "duration": 0.604672,
     "end_time": "2023-11-19T20:04:27.025607",
     "exception": false,
     "start_time": "2023-11-19T20:04:26.420935",
     "status": "completed"
    },
    "tags": []
   },
   "outputs": [],
   "source": [
    "df = pd.read_csv(\n",
    "    '/kaggle/input/d/hodajalali/sensorless-drive-diagnosis/Sensorless_drive_diagnosis.txt', \n",
    "    delim_whitespace=True, \n",
    "    header=None\n",
    ")\n",
    "column_names =[]\n",
    "for i in range(df.shape[1]-1):\n",
    "    column_names.append(\"Feature\"+str(i+1))\n",
    "column_names.append('Class')\n",
    "df.columns = column_names"
   ]
  },
  {
   "cell_type": "markdown",
   "id": "3d6416d3",
   "metadata": {
    "papermill": {
     "duration": 0.004009,
     "end_time": "2023-11-19T20:04:27.034046",
     "exception": false,
     "start_time": "2023-11-19T20:04:27.030037",
     "status": "completed"
    },
    "tags": []
   },
   "source": [
    "> Classes"
   ]
  },
  {
   "cell_type": "code",
   "execution_count": 3,
   "id": "4cc1ab91",
   "metadata": {
    "execution": {
     "iopub.execute_input": "2023-11-19T20:04:27.044459Z",
     "iopub.status.busy": "2023-11-19T20:04:27.043423Z",
     "iopub.status.idle": "2023-11-19T20:04:27.059363Z",
     "shell.execute_reply": "2023-11-19T20:04:27.058238Z"
    },
    "papermill": {
     "duration": 0.02374,
     "end_time": "2023-11-19T20:04:27.061961",
     "exception": false,
     "start_time": "2023-11-19T20:04:27.038221",
     "status": "completed"
    },
    "tags": []
   },
   "outputs": [
    {
     "name": "stdout",
     "output_type": "stream",
     "text": [
      "Unique classes:\n",
      "[ 1  2  3  4  5  6  7  8  9 10 11]\n"
     ]
    }
   ],
   "source": [
    "print('Unique classes:')\n",
    "print(df['Class'].unique())"
   ]
  },
  {
   "cell_type": "code",
   "execution_count": 4,
   "id": "3acf4188",
   "metadata": {
    "execution": {
     "iopub.execute_input": "2023-11-19T20:04:27.072724Z",
     "iopub.status.busy": "2023-11-19T20:04:27.072334Z",
     "iopub.status.idle": "2023-11-19T20:04:27.430724Z",
     "shell.execute_reply": "2023-11-19T20:04:27.429508Z"
    },
    "papermill": {
     "duration": 0.366235,
     "end_time": "2023-11-19T20:04:27.432948",
     "exception": false,
     "start_time": "2023-11-19T20:04:27.066713",
     "status": "completed"
    },
    "tags": []
   },
   "outputs": [
    {
     "data": {
      "text/plain": [
       "Text(0.5, 1.0, '# datapoints in each class')"
      ]
     },
     "execution_count": 4,
     "metadata": {},
     "output_type": "execute_result"
    },
    {
     "data": {
      "image/png": "[encoded data removed]",
      "text/plain": [
       "<Figure size 640x480 with 1 Axes>"
      ]
     },
     "metadata": {},
     "output_type": "display_data"
    }
   ],
   "source": [
    "sns.histplot(df['Class'])\n",
    "plt.xlabel('Class')\n",
    "plt.ylabel('Count')\n",
    "plt.title('# datapoints in each class')"
   ]
  },
  {
   "cell_type": "markdown",
   "id": "264c11d3",
   "metadata": {
    "papermill": {
     "duration": 0.004573,
     "end_time": "2023-11-19T20:04:27.442414",
     "exception": false,
     "start_time": "2023-11-19T20:04:27.437841",
     "status": "completed"
    },
    "tags": []
   },
   "source": [
    "> Prepare data"
   ]
  },
  {
   "cell_type": "code",
   "execution_count": 5,
   "id": "3cf9b59e",
   "metadata": {
    "execution": {
     "iopub.execute_input": "2023-11-19T20:04:27.453667Z",
     "iopub.status.busy": "2023-11-19T20:04:27.453296Z",
     "iopub.status.idle": "2023-11-19T20:04:27.494706Z",
     "shell.execute_reply": "2023-11-19T20:04:27.493377Z"
    },
    "papermill": {
     "duration": 0.049842,
     "end_time": "2023-11-19T20:04:27.497079",
     "exception": false,
     "start_time": "2023-11-19T20:04:27.447237",
     "status": "completed"
    },
    "tags": []
   },
   "outputs": [],
   "source": [
    "X = df.drop('Class', axis=1)\n",
    "y = df['Class']\n",
    "y_dummies = pd.get_dummies(df['Class'])\n",
    "X_train, X_test, y_train, y_test = train_test_split(X, y, test_size=0.2, random_state=42)\n"
   ]
  },
  {
   "cell_type": "markdown",
   "id": "fe6d7718",
   "metadata": {
    "papermill": {
     "duration": 0.004273,
     "end_time": "2023-11-19T20:04:27.506147",
     "exception": false,
     "start_time": "2023-11-19T20:04:27.501874",
     "status": "completed"
    },
    "tags": []
   },
   "source": [
    ">  Function to evaluate models"
   ]
  },
  {
   "cell_type": "code",
   "execution_count": 6,
   "id": "37e1de86",
   "metadata": {
    "execution": {
     "iopub.execute_input": "2023-11-19T20:04:27.516696Z",
     "iopub.status.busy": "2023-11-19T20:04:27.516290Z",
     "iopub.status.idle": "2023-11-19T20:04:27.522038Z",
     "shell.execute_reply": "2023-11-19T20:04:27.521011Z"
    },
    "papermill": {
     "duration": 0.013361,
     "end_time": "2023-11-19T20:04:27.523875",
     "exception": false,
     "start_time": "2023-11-19T20:04:27.510514",
     "status": "completed"
    },
    "tags": []
   },
   "outputs": [],
   "source": [
    "def evaluate_model(predictions, y_test):\n",
    "    accuracy = accuracy_score(y_test, predictions)\n",
    "    report = classification_report(y_test, predictions)\n",
    "    print(f\"Accuracy: {accuracy:.4f}\")\n",
    "    print(\"Classification Report:\")\n",
    "    print(report)\n"
   ]
  },
  {
   "cell_type": "markdown",
   "id": "17f8329a",
   "metadata": {
    "papermill": {
     "duration": 0.004274,
     "end_time": "2023-11-19T20:04:27.532848",
     "exception": false,
     "start_time": "2023-11-19T20:04:27.528574",
     "status": "completed"
    },
    "tags": []
   },
   "source": [
    "> Logistic Regression"
   ]
  },
  {
   "cell_type": "code",
   "execution_count": 7,
   "id": "ce29ce0d",
   "metadata": {
    "execution": {
     "iopub.execute_input": "2023-11-19T20:04:27.543367Z",
     "iopub.status.busy": "2023-11-19T20:04:27.542860Z",
     "iopub.status.idle": "2023-11-19T20:04:27.548563Z",
     "shell.execute_reply": "2023-11-19T20:04:27.547406Z"
    },
    "papermill": {
     "duration": 0.013259,
     "end_time": "2023-11-19T20:04:27.550496",
     "exception": false,
     "start_time": "2023-11-19T20:04:27.537237",
     "status": "completed"
    },
    "tags": []
   },
   "outputs": [],
   "source": [
    "def train_logistic_regression(X_train, y_train, X_test):\n",
    "    model = LogisticRegression(solver='lbfgs', max_iter=100)\n",
    "    model.fit(X_train, y_train)\n",
    "    predictions = model.predict(X_test)\n",
    "    return predictions"
   ]
  },
  {
   "cell_type": "code",
   "execution_count": 8,
   "id": "fae170f0",
   "metadata": {
    "execution": {
     "iopub.execute_input": "2023-11-19T20:04:27.561036Z",
     "iopub.status.busy": "2023-11-19T20:04:27.560643Z",
     "iopub.status.idle": "2023-11-19T20:04:30.789303Z",
     "shell.execute_reply": "2023-11-19T20:04:30.788617Z"
    },
    "papermill": {
     "duration": 3.237491,
     "end_time": "2023-11-19T20:04:30.792645",
     "exception": false,
     "start_time": "2023-11-19T20:04:27.555154",
     "status": "completed"
    },
    "tags": []
   },
   "outputs": [
    {
     "name": "stdout",
     "output_type": "stream",
     "text": [
      "Logistic Regression:\n",
      "Accuracy: 0.5326\n",
      "Classification Report:\n",
      "              precision    recall  f1-score   support\n",
      "\n",
      "           1       0.46      0.45      0.46      1074\n",
      "           2       0.41      0.35      0.38      1089\n",
      "           3       0.49      0.17      0.25      1044\n",
      "           4       0.55      0.71      0.62      1048\n",
      "           5       0.38      0.19      0.25      1066\n",
      "           6       0.44      0.25      0.31      1057\n",
      "           7       0.84      0.99      0.91      1103\n",
      "           8       0.46      0.53      0.49      1029\n",
      "           9       0.38      0.52      0.44      1012\n",
      "          10       0.38      0.67      0.49      1072\n",
      "          11       1.00      1.00      1.00      1108\n",
      "\n",
      "    accuracy                           0.53     11702\n",
      "   macro avg       0.53      0.53      0.51     11702\n",
      "weighted avg       0.53      0.53      0.51     11702\n",
      "\n"
     ]
    },
    {
     "name": "stderr",
     "output_type": "stream",
     "text": [
      "/opt/conda/lib/python3.10/site-packages/sklearn/linear_model/_logistic.py:458: ConvergenceWarning: lbfgs failed to converge (status=1):\n",
      "STOP: TOTAL NO. of ITERATIONS REACHED LIMIT.\n",
      "\n",
      "Increase the number of iterations (max_iter) or scale the data as shown in:\n",
      "    https://scikit-learn.org/stable/modules/preprocessing.html\n",
      "Please also refer to the documentation for alternative solver options:\n",
      "    https://scikit-learn.org/stable/modules/linear_model.html#logistic-regression\n",
      "  n_iter_i = _check_optimize_result(\n"
     ]
    }
   ],
   "source": [
    "lr_predictions = train_logistic_regression(X_train, y_train, X_test)\n",
    "print(\"Logistic Regression:\")\n",
    "evaluate_model(lr_predictions, y_test)"
   ]
  },
  {
   "cell_type": "markdown",
   "id": "655f883d",
   "metadata": {
    "papermill": {
     "duration": 0.005525,
     "end_time": "2023-11-19T20:04:30.804336",
     "exception": false,
     "start_time": "2023-11-19T20:04:30.798811",
     "status": "completed"
    },
    "tags": []
   },
   "source": [
    "> Decision Trees"
   ]
  },
  {
   "cell_type": "code",
   "execution_count": 9,
   "id": "7ee40474",
   "metadata": {
    "execution": {
     "iopub.execute_input": "2023-11-19T20:04:30.818104Z",
     "iopub.status.busy": "2023-11-19T20:04:30.817245Z",
     "iopub.status.idle": "2023-11-19T20:04:30.821747Z",
     "shell.execute_reply": "2023-11-19T20:04:30.821114Z"
    },
    "papermill": {
     "duration": 0.013235,
     "end_time": "2023-11-19T20:04:30.823407",
     "exception": false,
     "start_time": "2023-11-19T20:04:30.810172",
     "status": "completed"
    },
    "tags": []
   },
   "outputs": [],
   "source": [
    "def train_decision_tree(X_train, y_train, X_test):\n",
    "    model = DecisionTreeClassifier()\n",
    "    model.fit(X_train, y_train)\n",
    "    predictions = model.predict(X_test)\n",
    "    return predictions"
   ]
  },
  {
   "cell_type": "code",
   "execution_count": 10,
   "id": "9ff874d3",
   "metadata": {
    "execution": {
     "iopub.execute_input": "2023-11-19T20:04:30.836956Z",
     "iopub.status.busy": "2023-11-19T20:04:30.836526Z",
     "iopub.status.idle": "2023-11-19T20:04:34.747332Z",
     "shell.execute_reply": "2023-11-19T20:04:34.746700Z"
    },
    "papermill": {
     "duration": 3.91995,
     "end_time": "2023-11-19T20:04:34.749309",
     "exception": false,
     "start_time": "2023-11-19T20:04:30.829359",
     "status": "completed"
    },
    "tags": []
   },
   "outputs": [
    {
     "name": "stdout",
     "output_type": "stream",
     "text": [
      "\n",
      "Decision Tree:\n",
      "Accuracy: 0.9847\n",
      "Classification Report:\n",
      "              precision    recall  f1-score   support\n",
      "\n",
      "           1       0.98      0.98      0.98      1074\n",
      "           2       0.99      0.98      0.99      1089\n",
      "           3       0.99      0.99      0.99      1044\n",
      "           4       0.99      0.99      0.99      1048\n",
      "           5       0.97      0.96      0.97      1066\n",
      "           6       0.97      0.98      0.97      1057\n",
      "           7       1.00      1.00      1.00      1103\n",
      "           8       0.97      0.97      0.97      1029\n",
      "           9       0.98      0.98      0.98      1012\n",
      "          10       0.99      0.99      0.99      1072\n",
      "          11       1.00      1.00      1.00      1108\n",
      "\n",
      "    accuracy                           0.98     11702\n",
      "   macro avg       0.98      0.98      0.98     11702\n",
      "weighted avg       0.98      0.98      0.98     11702\n",
      "\n"
     ]
    }
   ],
   "source": [
    "dt_predictions = train_decision_tree(X_train, y_train, X_test)\n",
    "print(\"\\nDecision Tree:\")\n",
    "evaluate_model(dt_predictions, y_test)"
   ]
  },
  {
   "cell_type": "markdown",
   "id": "53403815",
   "metadata": {
    "papermill": {
     "duration": 0.004686,
     "end_time": "2023-11-19T20:04:34.759206",
     "exception": false,
     "start_time": "2023-11-19T20:04:34.754520",
     "status": "completed"
    },
    "tags": []
   },
   "source": [
    "> Random Forests"
   ]
  },
  {
   "cell_type": "code",
   "execution_count": 11,
   "id": "d401f57f",
   "metadata": {
    "execution": {
     "iopub.execute_input": "2023-11-19T20:04:34.771143Z",
     "iopub.status.busy": "2023-11-19T20:04:34.770664Z",
     "iopub.status.idle": "2023-11-19T20:04:34.776560Z",
     "shell.execute_reply": "2023-11-19T20:04:34.775147Z"
    },
    "papermill": {
     "duration": 0.015118,
     "end_time": "2023-11-19T20:04:34.779224",
     "exception": false,
     "start_time": "2023-11-19T20:04:34.764106",
     "status": "completed"
    },
    "tags": []
   },
   "outputs": [],
   "source": [
    "def train_random_forest(X_train, y_train, X_test):\n",
    "    model = RandomForestClassifier()\n",
    "    model.fit(X_train, y_train)\n",
    "    predictions = model.predict(X_test)\n",
    "    return predictions"
   ]
  },
  {
   "cell_type": "code",
   "execution_count": 12,
   "id": "546df6b4",
   "metadata": {
    "execution": {
     "iopub.execute_input": "2023-11-19T20:04:34.790713Z",
     "iopub.status.busy": "2023-11-19T20:04:34.790327Z",
     "iopub.status.idle": "2023-11-19T20:05:03.723316Z",
     "shell.execute_reply": "2023-11-19T20:05:03.721648Z"
    },
    "papermill": {
     "duration": 28.941041,
     "end_time": "2023-11-19T20:05:03.725286",
     "exception": false,
     "start_time": "2023-11-19T20:04:34.784245",
     "status": "completed"
    },
    "tags": []
   },
   "outputs": [
    {
     "name": "stdout",
     "output_type": "stream",
     "text": [
      "\n",
      "Random Forest:\n",
      "Accuracy: 0.9991\n",
      "Classification Report:\n",
      "              precision    recall  f1-score   support\n",
      "\n",
      "           1       1.00      1.00      1.00      1074\n",
      "           2       1.00      1.00      1.00      1089\n",
      "           3       1.00      1.00      1.00      1044\n",
      "           4       1.00      1.00      1.00      1048\n",
      "           5       1.00      1.00      1.00      1066\n",
      "           6       1.00      1.00      1.00      1057\n",
      "           7       1.00      1.00      1.00      1103\n",
      "           8       1.00      1.00      1.00      1029\n",
      "           9       1.00      1.00      1.00      1012\n",
      "          10       1.00      1.00      1.00      1072\n",
      "          11       1.00      1.00      1.00      1108\n",
      "\n",
      "    accuracy                           1.00     11702\n",
      "   macro avg       1.00      1.00      1.00     11702\n",
      "weighted avg       1.00      1.00      1.00     11702\n",
      "\n"
     ]
    }
   ],
   "source": [
    "rf_predictions = train_random_forest(X_train, y_train, X_test)\n",
    "print(\"\\nRandom Forest:\")\n",
    "evaluate_model(rf_predictions, y_test)"
   ]
  }
 ],
 "metadata": {
  "kaggle": {
   "accelerator": "none",
   "dataSources": [
    {
     "datasetId": 4024101,
     "sourceId": 7000192,
     "sourceType": "datasetVersion"
    },
    {
     "datasetId": 4026799,
     "sourceId": 7004457,
     "sourceType": "datasetVersion"
    }
   ],
   "dockerImageVersionId": 30587,
   "isGpuEnabled": false,
   "isInternetEnabled": true,
   "language": "python",
   "sourceType": "notebook"
  },
  "kernelspec": {
   "display_name": "Python 3",
   "language": "python",
   "name": "python3"
  },
  "language_info": {
   "codemirror_mode": {
    "name": "ipython",
    "version": 3
   },
   "file_extension": ".py",
   "mimetype": "text/x-python",
   "name": "python",
   "nbconvert_exporter": "python",
   "pygments_lexer": "ipython3",
   "version": "3.10.12"
  },
  "papermill": {
   "default_parameters": {},
   "duration": 57.238614,
   "end_time": "2023-11-19T20:05:06.187575",
   "environment_variables": {},
   "exception": null,
   "input_path": "__notebook__.ipynb",
   "output_path": "__notebook__.ipynb",
   "parameters": {},
   "start_time": "2023-11-19T20:04:08.948961",
   "version": "2.4.0"
  }
 },
 "nbformat": 4,
 "nbformat_minor": 5
}
